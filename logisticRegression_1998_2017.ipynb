{
  "cells": [
    {
      "cell_type": "markdown",
      "source": [
        "#IST718 Project - Google and NCAA Women's Basketball Tournament Prediction\n",
        "\n",
        "#Logistic Regression Machine learning algorithm to build 20-year predictive model\n",
        "\n",
        "@authors\n",
        "Sanjana Rajagopala"
      ],
      "metadata": {
        "id": "85Yrx6YJAB7q"
      }
    },
    {
      "cell_type": "code",
      "source": [
        "#IMPORT ALL THE REQUIRED PACKAGES\n",
        "import pandas as pd\n",
        "from pyspark.ml import feature\n",
        "from pyspark.ml.classification import LogisticRegression\n",
        "from pyspark.ml.regression import LinearRegression\n",
        "from pyspark.ml import classification\n",
        "from pyspark.ml import Pipeline\n",
        "from pyspark.sql import SQLContext\n",
        "from pyspark.ml.evaluation import BinaryClassificationEvaluator\n",
        "from pyspark.sql import functions as fn\n",
        "from pyspark.sql.types import IntegerType\n",
        "import numpy as np\n",
        "from pyspark.mllib.evaluation import BinaryClassificationMetrics as metric\n"
      ],
      "metadata": {
        "id": "_qiGy3jFAB7s"
      },
      "outputs": [],
      "execution_count": 1
    },
    {
      "cell_type": "code",
      "source": [
        "#Read the required data from the CSV files uploaded in the FileStore dbfs of the Databricks environment\n",
        "wteamDF = spark.read.csv(\"/FileStore/tables/WTeams.csv\", header=True, inferSchema= True)\n",
        "lteamDF = spark.read.csv(\"/FileStore/tables/WTeams.csv\", header=True, inferSchema= True)\n",
        "\n",
        "#Read the RegularSeasons CSV File\n",
        "regularSeasonsDF = spark.read.csv(\"/FileStore/tables/WRegularSeasonCompactResults.csv\", header=True, inferSchema= True)\n",
        "\n",
        "#Read the Seeds and Slots CSV Files\n",
        "seedsDF = spark.read.csv(\"/FileStore/tables/WNCAATourneySeeds.csv\", header=True, inferSchema= True)\n",
        "slotsDF = spark.read.csv(\"/FileStore/tables/WNCAATourneySlots.csv\", header=True, inferSchema=True)\n",
        "\n",
        "#Read the TourneyResults CSV File\n",
        "CompactDF = spark.read.csv(\"/FileStore/tables/WNCAATourneyCompactResults.csv\", header=True, inferSchema= True)\n",
        "\n"
      ],
      "metadata": {
        "id": "08NIK2XcAB7t"
      },
      "outputs": [],
      "execution_count": null
    },
    {
      "cell_type": "code",
      "source": [
        "#Convert into Pandas DF from sql.dataframe for initial manipulation of data\n",
        "wteamDF = wteamDF.toPandas()\n",
        "lteamDF = lteamDF.toPandas()\n",
        "regularSeasonsDF = regularSeasonsDF.toPandas()\n",
        "slotsDF = slotsDF.toPandas()\n",
        "seedsDF = seedsDF.toPandas()\n",
        "\n",
        "#Rename the column to WTeamName\n",
        "wteamDF.columns = ['WTeamID', 'WTeamName']\n",
        "lteamDF.columns = ['LTeamID', 'LTeamName']\n",
        "\n",
        "#Maitain a copy of the original data\n",
        "NewseedsDF=seedsDF\n",
        "CompactDF = CompactDF.toPandas()\n"
      ],
      "metadata": {
        "id": "GjVJ_IIrAB7u"
      },
      "outputs": [],
      "execution_count": null
    },
    {
      "cell_type": "code",
      "source": [
        "#Create the DICTIONARY - team id,season as key and seed as value\n",
        "seedsdict={}\n",
        "for row in NewseedsDF.iterrows():\n",
        "  seedsdict[(row[1][\"Season\"], row[1][\"TeamID\"])] = row[1][\"Seed\"]\n"
      ],
      "metadata": {
        "id": "xUcJUXDxAB7u"
      },
      "outputs": [],
      "execution_count": null
    },
    {
      "cell_type": "code",
      "source": [
        "#Merge the Season and team ID details from results DF and team DF\n",
        "temp_wCol = []\n",
        "temp_lCol = []\n",
        "for row in CompactDF.iterrows():\n",
        "  year = row[1]['Season']\n",
        "  wteamid = row[1]['WTeamID']\n",
        "  lteamid = row[1]['LTeamID']\n",
        "  temp_wCol.append(seedsdict[(year,wteamid)])\n",
        "  temp_lCol.append(seedsdict[(year,lteamid)])\n",
        ""
      ],
      "metadata": {
        "id": "KFPeZuj7AB7u"
      },
      "outputs": [],
      "execution_count": null
    },
    {
      "cell_type": "code",
      "source": [
        "#Add the corresponding seed values into the dataframe\n",
        "CompactDF['WSeed'] = temp_wCol\n",
        "CompactDF['LSeed'] = temp_lCol"
      ],
      "metadata": {
        "id": "liVyI2idAB7u"
      },
      "outputs": [],
      "execution_count": null
    },
    {
      "cell_type": "code",
      "source": [
        "#Define weights for the seeds of each team - Meaning keep the highest weight of 16 for the team with Seed 1\n",
        "weights_dict = {}\n",
        "j = 1\n",
        "for i in range(16,0,-1):\n",
        "  weights_dict[j] = i\n",
        "  j+=1\n"
      ],
      "metadata": {
        "id": "OLFLhUu5AB7v"
      },
      "outputs": [],
      "execution_count": null
    },
    {
      "cell_type": "code",
      "source": [
        "#PRE_PROCESSING THE DATAFRAME\n",
        "\n",
        "temp_win = []\n",
        "wseed_num = []\n",
        "lseed_num = []\n",
        "diff_seed = []\n",
        "loc_col = []\n",
        "diff_score = []\n",
        "\n",
        "for row in CompactDF.iterrows():\n",
        "\n",
        "  team_1 = row[1]['WTeamID']\n",
        "  team_2 = row[1]['LTeamID']\n",
        "  loc_val = row[1]['WLoc']\n",
        "  wseed = row[1]['WSeed']\n",
        "  lseed =row[1]['LSeed']\n",
        "\n",
        "  #Maintain the win column value as 1 if the team with lower teamID has won in the match\n",
        "  if(team_1<team_2):\n",
        "    temp_win.append(1)\n",
        "  else:\n",
        "    temp_win.append(0)\n",
        "\n",
        "  #Give the highest weight when played in the home ground, least of outside home, medium vlaue otherwise\n",
        "  if(loc_val == 'H'):\n",
        "    loc_col.append(3)\n",
        "  elif(loc_val == 'N'):\n",
        "    loc_col.append(2)\n",
        "  elif(loc_val=='A'):\n",
        "    loc_col.append(1)\n",
        "\n",
        "  #Maintain the difference between seeds of the teams\n",
        "  temp_val = abs(weights_dict[int(wseed[1:])] - weights_dict[int(lseed[1:])])\n",
        "  diff_seed.append(temp_val)\n",
        "\n",
        "  #Maintain the column with difference between scores of the teams\n",
        "  diff_score.append(abs(row[1]['WScore'] - row[1]['LScore']))\n"
      ],
      "metadata": {
        "id": "zviSwKL1AB7v"
      },
      "outputs": [],
      "execution_count": null
    },
    {
      "cell_type": "code",
      "source": [
        "#Add the above obtained lists as columns into the DF\n",
        "CompactDF['WLProb'] = temp_win\n",
        "CompactDF['Seed_Diff'] = diff_seed\n",
        "CompactDF['Loc'] = loc_col\n",
        "CompactDF['Score_Diff'] = diff_score"
      ],
      "metadata": {
        "id": "YHJdR2qmAB7v"
      },
      "outputs": [],
      "execution_count": null
    },
    {
      "cell_type": "code",
      "source": [
        "#Check the results of the pre-processing\n",
        "CompactDF[:5]"
      ],
      "metadata": {
        "id": "XTVybSWDAB7w"
      },
      "outputs": [],
      "execution_count": null
    },
    {
      "cell_type": "code",
      "source": [
        "#Conversion into the Spark SQL Dataframe\n",
        "sqlCtx = SQLContext(sc)\n",
        "sql_compactDF = sqlCtx.createDataFrame(CompactDF)\n",
        "\n",
        "#Rename the result column with the name label so that all the algorithms can be applied without any problems\n",
        "sql_compactDF= sql_compactDF.withColumnRenamed(\"WLProb\", \"label\")"
      ],
      "metadata": {
        "id": "vbjD5JGuAB7w"
      },
      "outputs": [],
      "execution_count": null
    },
    {
      "cell_type": "code",
      "source": [
        "#FEATURE ENGINEERING\n",
        "\n",
        "#Definition of new features from existing data\n",
        "\n",
        "#Obtain the totalMatches played and win percentage of the team in respective season\n",
        "\n",
        "wDF = sql_compactDF.groupBy(['Season','WTeamID']).agg(fn.sum('label').alias('won'), fn.count('Season').alias('WCount'))\n",
        "lDF = sql_compactDF.groupBy(['Season','LTeamID']).agg(fn.count('Season').alias('LCount'))"
      ],
      "metadata": {
        "id": "ctnSPDC4AB7w"
      },
      "outputs": [],
      "execution_count": null
    },
    {
      "cell_type": "code",
      "source": [
        "#Rename and maintain a clean DF\n",
        "wDF = wDF.selectExpr(\"WTeamID as teamID\", \"Season\", \"won\", \"WCount\")\n",
        "lDF = lDF.selectExpr(\"LTeamID as teamID\", \"Season\", \"LCount\")"
      ],
      "metadata": {
        "id": "wyOWL5MyAB7w"
      },
      "outputs": [],
      "execution_count": null
    },
    {
      "cell_type": "code",
      "source": [
        "#Create a DF of matches with the above combined details\n",
        "matchDF = wDF.join(lDF, (wDF.teamID== lDF.teamID) & (wDF.Season==lDF.Season), how='right')"
      ],
      "metadata": {
        "id": "cfY0cihTAB7w"
      },
      "outputs": [],
      "execution_count": null
    },
    {
      "cell_type": "code",
      "source": [
        "matchDF = matchDF.withColumn(\"totalMatches\", sum([matchDF[col] for col in ['WCount', 'LCount']]))\n",
        "#Computing the win percetage for the individaul teams\n",
        "matchDF=matchDF.withColumn(\"winPercentage\", fn.col('WCount')/fn.col('totalMatches') )\n",
        "#Create Pandas DF only for this manipulation\n",
        "#Renaming and selecting required data - avoiding redundancy\n",
        "match_pd_DF = matchDF.toPandas()\n",
        "match_pd_DF = match_pd_DF.iloc[:,[0,1,8]]\n",
        "matchDF = sqlCtx.createDataFrame(match_pd_DF)"
      ],
      "metadata": {
        "id": "392cyHweAB7w"
      },
      "outputs": [],
      "execution_count": null
    },
    {
      "cell_type": "code",
      "source": [
        "#Count and display the DF to ensure the join has not missed any data rows and other details\n",
        "display(matchDF)\n",
        "print(matchDF.count())\n",
        "#Expect NaN because of the null values introduced during the join"
      ],
      "metadata": {
        "id": "k9WeOflrAB7x"
      },
      "outputs": [],
      "execution_count": null
    },
    {
      "cell_type": "code",
      "source": [
        "#Add the details from matchDF to the initial integrated DF\n",
        "\n",
        "winPercentage_DF = sql_compactDF.join(matchDF, (matchDF.teamID== sql_compactDF.WTeamID) & (sql_compactDF.Season==matchDF.Season), how='left').select('DayNum', sql_compactDF.Season, 'WTeamID', 'WScore', 'LTeamID', \"LScore\", 'NumOT', \"WSeed\", 'LSeed', 'label', 'Seed_Diff', 'Loc', \"Score_Diff\",fn.col('winPercentage').alias('W_win_percentage'))\n",
        "\n",
        "winPercentage_DF = winPercentage_DF.join(matchDF, (matchDF.teamID== winPercentage_DF.LTeamID) & (winPercentage_DF.Season==matchDF.Season), how='left').select('DayNum', winPercentage_DF.Season, 'WTeamID', 'WScore', 'LTeamID', \"LScore\", 'NumOT', \"WSeed\", 'LSeed', 'label', 'Seed_Diff', 'Loc' ,\"Score_Diff\",'W_win_percentage',fn.col('winPercentage').alias('L_win_percentage'))"
      ],
      "metadata": {
        "id": "jsoA_agnAB7x"
      },
      "outputs": [],
      "execution_count": null
    },
    {
      "cell_type": "code",
      "source": [
        "#Obtain the percentage as per the periods - 1998 to 2005; 2006 to 2010; 2011 to 2015; 2016 to 2017\n",
        "#This further used as features in the models\n",
        "\n",
        "groupedTeams_DF_1 = matchDF.where((fn.col('Season').cast(IntegerType())>=1998) & (fn.col('Season').cast(IntegerType())<=2005)).groupBy('teamID').agg(fn.avg('winPercentage').alias('1998_2005_win_percentage'))\n",
        "#Repeat the grouping for remianing periods\n",
        "groupedTeams_DF_2 = matchDF.where((fn.col('Season').cast(IntegerType())>=2006) & (fn.col('Season').cast(IntegerType())<=2010)).groupBy('teamID').agg(fn.avg('winPercentage').alias('2006_2010_win_percentage'))\n",
        "groupedTeams_DF_3 = matchDF.where((fn.col('Season').cast(IntegerType())>=2011) & (fn.col('Season').cast(IntegerType())<=2015)).groupBy('teamID').agg(fn.avg('winPercentage').alias('2011_2015_win_percentage'))\n",
        "groupedTeams_DF_4 = matchDF.where((fn.col('Season').cast(IntegerType())>=2016) & (fn.col('Season').cast(IntegerType())<=2017)).groupBy('teamID').agg(fn.avg('winPercentage').alias('2016_2017_win_percentage'))"
      ],
      "metadata": {
        "id": "H4YdVQRkAB7x"
      },
      "outputs": [],
      "execution_count": null
    },
    {
      "cell_type": "code",
      "source": [
        "#Removing null values\n",
        "winPercentage_DF=winPercentage_DF.na.fill(0)\n",
        "\n",
        "#Display to check the final DF\n",
        "display(winPercentage_DF)"
      ],
      "metadata": {
        "id": "DbA0hdEAAB7x"
      },
      "outputs": [],
      "execution_count": null
    },
    {
      "cell_type": "code",
      "source": [
        "#Join the data frame with the compact data frame\n",
        "winPercentage_DF=groupedTeams_DF_1.join(winPercentage_DF, winPercentage_DF.WTeamID == groupedTeams_DF_1.teamID, how='right').select('DayNum', winPercentage_DF.Season, 'WTeamID', 'WScore', 'LTeamID', \"LScore\", 'NumOT', \"WSeed\", 'LSeed', 'label', 'Seed_Diff', 'Loc' ,\"Score_Diff\",'W_win_percentage', 'L_win_percentage', '1998_2005_win_percentage')\n",
        "\n",
        "winPercentage_DF=groupedTeams_DF_2.join(winPercentage_DF, winPercentage_DF.WTeamID == groupedTeams_DF_2.teamID, how='right')\n",
        "winPercentage_DF=groupedTeams_DF_3.join(winPercentage_DF, winPercentage_DF.WTeamID == groupedTeams_DF_3.teamID, how='right')\n",
        "winPercentage_DF=groupedTeams_DF_4.join(winPercentage_DF, winPercentage_DF.WTeamID == groupedTeams_DF_4.teamID, how='right')\n"
      ],
      "metadata": {
        "id": "U1cFINEtAB7x"
      },
      "outputs": [],
      "execution_count": null
    },
    {
      "cell_type": "code",
      "source": [
        "#Removing redundant columns\n",
        "wpandasDF=winPercentage_DF.toPandas()\n",
        "wpandasDF=wpandasDF.drop('teamID', axis=1)\n",
        "\n",
        "#Creating spark sql dataframe\n",
        "winPercentage_DF=sqlCtx.createDataFrame(wpandasDF)\n",
        "#Removing null values\n",
        "winPercentage_DF=winPercentage_DF.na.fill(0)\n",
        "\n"
      ],
      "metadata": {
        "id": "2lLhhqIPAB7y"
      },
      "outputs": [],
      "execution_count": null
    },
    {
      "cell_type": "code",
      "source": [
        "#Display and count to check the results\n",
        "display(winPercentage_DF)\n",
        "length(winPercentage_DF)\n"
      ],
      "metadata": {
        "id": "zpw8b-d-AB7y"
      },
      "outputs": [],
      "execution_count": null
    },
    {
      "cell_type": "code",
      "source": [
        "winPercentage_DF.count()"
      ],
      "metadata": {
        "id": "ZOTEK9AnAB7y"
      },
      "outputs": [],
      "execution_count": null
    },
    {
      "cell_type": "code",
      "source": [
        "#INFERENCE OF THE ADDED FEATURES\n",
        "\n",
        "#Checkimg the correlation between win percentages of each period with label\n",
        "winPercentage_DF.select(fn.corr('1998_2005_win_percentage', 'label')).show()"
      ],
      "metadata": {
        "id": "w96XKbw3AB7y"
      },
      "outputs": [],
      "execution_count": null
    },
    {
      "cell_type": "code",
      "source": [
        "winPercentage_DF.select(fn.corr('2006_2010_win_percentage', 'label')).show()"
      ],
      "metadata": {
        "id": "b7KfexNqAB7y"
      },
      "outputs": [],
      "execution_count": null
    },
    {
      "cell_type": "code",
      "source": [
        "winPercentage_DF.select(fn.corr('2011_2015_win_percentage', 'label')).show()"
      ],
      "metadata": {
        "id": "XenXialzAB7y"
      },
      "outputs": [],
      "execution_count": null
    },
    {
      "cell_type": "code",
      "source": [
        "winPercentage_DF.select(fn.corr('2016_2017_win_percentage', 'label')).show()"
      ],
      "metadata": {
        "id": "nksoMDNBAB7y"
      },
      "outputs": [],
      "execution_count": null
    },
    {
      "cell_type": "code",
      "source": [
        "#MACHINE LEARNING\n",
        "# Split dataset randomly into Training , Validation and Test Datasets\n",
        "trainingData, validationData, testData = winPercentage_DF.randomSplit([0.6,0.3,0.1])"
      ],
      "metadata": {
        "id": "WgJDcaENAB7y"
      },
      "outputs": [],
      "execution_count": null
    },
    {
      "cell_type": "code",
      "source": [
        "#Feature Definition and Vector Assembler creation\n",
        "##############################################   MODEL - 1 #####################################################\n",
        "#Initial Set of Features with only the simple columns\n",
        "#DayNum - With the higher day number means games played at later stages. Hence, add as feature so that it means a better performance\n",
        "#WTeamID and LTeamID - the IDs indicate the possibility in that match up\n",
        "#Score_Diff - Difference between win and lose scores of the match\n",
        "#Seed_Diff - Difference between seeds of the two playing teams\n",
        "#NUMOT - Number of Overtimes in the match\n",
        "#Loc - Played at home, outside or neither\n",
        "featureCols_1 = [\"DayNum\", \"WTeamID\", \"Score_Diff\", \"Loc\", \"Seed_Diff\", \"NumOT\"]\n",
        "\n",
        "\n",
        "#set the input and output column names**\n",
        "assembler_1 = feature.VectorAssembler(inputCols = featureCols_1, outputCol = \"features\")\n"
      ],
      "metadata": {
        "id": "Wt6vfDEyAB7z"
      },
      "outputs": [],
      "execution_count": null
    },
    {
      "cell_type": "code",
      "source": [
        "# Train a Logistic Regression model\n",
        "logisticReg_1 = LogisticRegression(maxIter=10, regParam=0.1, elasticNetParam=0.3)\n",
        "\n",
        "# Chain vecAssembler and Logistic regression model\n",
        "pipeline_1 = Pipeline(stages=[ assembler_1, logisticReg_1])\n",
        "\n",
        "# Run stages in pipeline and train model\n",
        "model_1 = pipeline_1.fit(trainingData)"
      ],
      "metadata": {
        "id": "uqqWU_-ZAB7z"
      },
      "outputs": [],
      "execution_count": null
    },
    {
      "cell_type": "code",
      "source": [
        "#Determine the validation accuracy for model selection\n",
        "val_predictions_1 = model_1.transform(validationData)"
      ],
      "metadata": {
        "id": "u0m6rLwQAB7z"
      },
      "outputs": [],
      "execution_count": null
    },
    {
      "cell_type": "code",
      "source": [
        "#Determine the testing accuracy for the model performance\n",
        "test_predictions_1 = model_1.transform(testData)"
      ],
      "metadata": {
        "id": "Cs3GXgXwAB7z"
      },
      "outputs": [],
      "execution_count": null
    },
    {
      "cell_type": "code",
      "source": [
        "#Define the evaluator to obtain the areaUnderROC or the AUC score of the model\n",
        "evaluator = BinaryClassificationEvaluator()"
      ],
      "metadata": {
        "id": "mNLQqekRAB7z"
      },
      "outputs": [],
      "execution_count": null
    },
    {
      "cell_type": "code",
      "source": [
        "#Display the accuracies\n",
        "print(\"The AUC metric for the validation dataset of model-1\", evaluator.evaluate(val_predictions_1))\n",
        "print(\"The AUC metric for the testing dataset of model-1\", evaluator.evaluate(test_predictions_1))\n"
      ],
      "metadata": {
        "id": "GdBjTlbIAB70"
      },
      "outputs": [],
      "execution_count": null
    },
    {
      "cell_type": "code",
      "source": [
        "val_predictions_1.select(fn.avg('prediction')).show()"
      ],
      "metadata": {
        "id": "OLm7qpCXAB70"
      },
      "outputs": [],
      "execution_count": null
    },
    {
      "cell_type": "code",
      "source": [
        "#Checking the average prediction for the test data set ( A Balanced dataset)\n",
        "test_predictions_1.select(fn.avg('prediction')).show()"
      ],
      "metadata": {
        "id": "1qYcRbZSAB70"
      },
      "outputs": [],
      "execution_count": null
    },
    {
      "cell_type": "code",
      "source": [
        "display(test_predictions_1)"
      ],
      "metadata": {
        "id": "CYWfE-2lAB70"
      },
      "outputs": [],
      "execution_count": null
    },
    {
      "cell_type": "code",
      "source": [
        "#####################################################MODEL 2 #########################################################\n",
        "#Definition of the features with the win percentages of both the playing teams\n",
        "featureCols_2 = ['WTeamID','1998_2005_win_percentage', '2006_2010_win_percentage', '2011_2015_win_percentage', '2016_2017_win_percentage']\n",
        "\n",
        "\n",
        "logisticReg_2 = LogisticRegression()\n",
        "assembler_2 = feature.VectorAssembler(inputCols=featureCols_2, outputCol=\"features\")\n",
        "\n",
        "pipeline_2 = Pipeline(stages=[ assembler_2, logisticReg_2])\n",
        "\n",
        "# Run stages in pipeline and train model\n",
        "model_2 = pipeline_2.fit(trainingData)"
      ],
      "metadata": {
        "id": "gAIzS-zjAB70"
      },
      "outputs": [],
      "execution_count": null
    },
    {
      "cell_type": "code",
      "source": [
        "val_predictions_2 = model_2.transform(validationData)\n",
        "test_predictions_2=model_2.transform(testData)"
      ],
      "metadata": {
        "id": "zbDTKu6FAB76"
      },
      "outputs": [],
      "execution_count": null
    },
    {
      "cell_type": "code",
      "source": [
        "#Accuracy for validation data- using period features\n",
        "print(\"The AUC Metric for validation data set of model-2 \", evaluator.evaluate(val_predictions_2))\n",
        "print(\"The AUC Metric for test data set of model-2 \", evaluator.evaluate(test_predictions_2))"
      ],
      "metadata": {
        "id": "h85QKZBWAB77"
      },
      "outputs": [],
      "execution_count": null
    },
    {
      "cell_type": "code",
      "source": [
        "val_predictions_2.select(fn.avg('prediction')).show()"
      ],
      "metadata": {
        "id": "vZ3qXw4XAB77"
      },
      "outputs": [],
      "execution_count": null
    },
    {
      "cell_type": "code",
      "source": [
        "test_predictions_2.select(fn.avg('prediction')).show()"
      ],
      "metadata": {
        "id": "D5wgMl16AB77"
      },
      "outputs": [],
      "execution_count": null
    },
    {
      "cell_type": "code",
      "source": [
        "###############################MODEL - 3 ##################################################\n",
        "\n",
        "#Defnition of Features - with all the match and team feautres, win and lose percetages and teh period win percetage feaures\n",
        "featureCols_3 = ['WTeamID','1998_2005_win_percentage', '2006_2010_win_percentage', '2011_2015_win_percentage', '2016_2017_win_percentage',\"W_win_percentage\",\"L_win_percentage\",\"DayNum\", \"Score_Diff\", \"Loc\", \"Seed_Diff\", \"NumOT\"]\n",
        "\n",
        "#Logistic Regression for all features\n",
        "logisticReg_3 = LogisticRegression(maxIter=10, regParam=0.2, elasticNetParam=0.2)\n",
        "\n",
        "assembler_3=feature.VectorAssembler(inputCols=featureCols_3,outputCol=\"features\")\n",
        "# Chain labelIndexer, vecAssembler and NBmodel in a\n",
        "pipeline_3 = Pipeline(stages=[ assembler_3, logisticReg_3])\n",
        "\n",
        "# Run stages in pipeline and train model\n",
        "model_3 = pipeline_3.fit(trainingData)"
      ],
      "metadata": {
        "id": "UVmU8yNwAB77"
      },
      "outputs": [],
      "execution_count": null
    },
    {
      "cell_type": "code",
      "source": [
        "val_predictions_3 = model_3.transform(validationData)\n",
        "test_predictions_3 = model_3.transform(testData)"
      ],
      "metadata": {
        "id": "ve-gD1EuAB77"
      },
      "outputs": [],
      "execution_count": null
    },
    {
      "cell_type": "code",
      "source": [
        "#Accuracy for validation data- using all features\n",
        "print(\"The AUC Metric for validation data set of model-3 \", evaluator.evaluate(val_predictions_3))\n",
        "print(\"The AUC Metric for test data set of model-3 \", evaluator.evaluate(test_predictions_3))"
      ],
      "metadata": {
        "id": "YfYSksZ0AB77"
      },
      "outputs": [],
      "execution_count": null
    },
    {
      "cell_type": "code",
      "source": [
        "val_predictions_3.select(fn.avg('prediction')).show()"
      ],
      "metadata": {
        "id": "PvdcGGGOAB77"
      },
      "outputs": [],
      "execution_count": null
    },
    {
      "cell_type": "code",
      "source": [
        "test_predictions_3.select(fn.avg('prediction')).show()"
      ],
      "metadata": {
        "id": "26zV6Q_HAB78"
      },
      "outputs": [],
      "execution_count": null
    },
    {
      "cell_type": "code",
      "source": [
        "display(test_predictions_3)"
      ],
      "metadata": {
        "id": "t-wUcwUJAB78"
      },
      "outputs": [],
      "execution_count": null
    }
  ],
  "metadata": {
    "name": "logistic_regression_models",
    "notebookId": 4047218210896435,
    "colab": {
      "provenance": []
    },
    "language_info": {
      "name": "python"
    },
    "kernelspec": {
      "name": "python3",
      "display_name": "Python 3"
    }
  },
  "nbformat": 4,
  "nbformat_minor": 0
}